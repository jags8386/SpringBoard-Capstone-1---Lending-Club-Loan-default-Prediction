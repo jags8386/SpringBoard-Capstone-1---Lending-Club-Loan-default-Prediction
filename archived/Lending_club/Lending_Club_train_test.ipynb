{
 "cells": [
  {
   "cell_type": "markdown",
   "metadata": {},
   "source": [
    "<h1> <b> Purpose of this analysis</b></h1>\n",
    "Purpose of this mini project is to experiment some of data wrangling techniques. We have rcieved Lending Club Loan Data set from 2007 to 2015. There are total 2.2 million rows and 145 columns. It is important to do some pre-processing work in order to analyze data and fill out missing values.  \n",
    "\n",
    "<h2> <b> Packages</b></h2>\n",
    "We will start by importing some of packages. Following packages will be imported.\n"
   ]
  },
  {
   "cell_type": "code",
   "execution_count": 1,
   "metadata": {},
   "outputs": [],
   "source": [
    "import pandas as pd\n",
    "import matplotlib.pyplot as plt\n",
    "import numpy as np\n",
    "import seaborn as sns\n",
    "from sklearn.model_selection import train_test_split\n",
    "\n",
    "%matplotlib inline\n",
    "\n",
    "pd.set_option('display.max_columns', None)\n",
    "pd.set_option('display.max_rows', None)\n",
    "\n",
    "sns.set_style('whitegrid')"
   ]
  },
  {
   "cell_type": "markdown",
   "metadata": {},
   "source": [
    "<h2> Step 1 : Reading Data in Dataframe </h2>\n",
    "Now we will be reading data from \"Loan.csv\" to Pandas Dataframe."
   ]
  },
  {
   "cell_type": "code",
   "execution_count": 2,
   "metadata": {},
   "outputs": [
    {
     "name": "stdout",
     "output_type": "stream",
     "text": [
      "-->Read Chunk... 1\n",
      "-->Read Chunk... 2\n",
      "-->Read Chunk... 3\n",
      "-->Read Chunk... 4\n",
      "-->Read Chunk... 5\n",
      "-->Read Chunk... 6\n",
      "-->Read Chunk... 7\n",
      "-->Read Chunk... 8\n",
      "-->Read Chunk... 9\n",
      "-->Read Chunk... 10\n"
     ]
    }
   ],
   "source": [
    "file1 = \"Loan_cleandata2.csv\"\n",
    "ChunkSize = 200000\n",
    "i = 1\n",
    "for chunk in pd.read_csv(file1, chunksize=ChunkSize, low_memory=False):\n",
    "    loan_data = chunk if i == 1 else pd.concat([loan_data, chunk])\n",
    "    print('-->Read Chunk...', i)\n",
    "    i += 1\n",
    "\n",
    "\n",
    "# data = pd.read_csv(\"loan.csv\", low_memory=False)\n",
    "\n"
   ]
  },
  {
   "cell_type": "markdown",
   "metadata": {},
   "source": [
    "<h2> Step 2 : Checking data size </h2>\n",
    "Let's quickly check the shape of data.This will give us idea as how large is current dataset. As we can see, current data set contains more than 2 million rows and 145 columns. Not all columns are useful for our analysis. "
   ]
  },
  {
   "cell_type": "code",
   "execution_count": 3,
   "metadata": {},
   "outputs": [
    {
     "name": "stdout",
     "output_type": "stream",
     "text": [
      "(1854073, 37)\n"
     ]
    }
   ],
   "source": [
    "# print(list(data.columns))\n",
    "print(loan_data.shape)"
   ]
  },
  {
   "cell_type": "code",
   "execution_count": 4,
   "metadata": {
    "scrolled": false
   },
   "outputs": [
    {
     "name": "stdout",
     "output_type": "stream",
     "text": [
      "   loan_amnt        term  int_rate  installment grade sub_grade  \\\n",
      "0       2500   36 months     13.56        84.92     C        C1   \n",
      "1      30000   60 months     18.94       777.23     D        D2   \n",
      "2       5000   36 months     17.97       180.69     D        D1   \n",
      "3       4000   36 months     18.94       146.51     D        D2   \n",
      "4      30000   60 months     16.14       731.78     C        C4   \n",
      "\n",
      "        emp_title  emp_length home_ownership  annual_inc verification_status  \\\n",
      "0            Chef          10           RENT     55000.0        Not Verified   \n",
      "1     Postmaster           10       MORTGAGE     90000.0     Source Verified   \n",
      "2  Administrative           6       MORTGAGE     59280.0     Source Verified   \n",
      "3   IT Supervisor          10       MORTGAGE     92000.0     Source Verified   \n",
      "4        Mechanic          10       MORTGAGE     57250.0        Not Verified   \n",
      "\n",
      "  loan_status             purpose addr_state    dti  delinq_2yrs  \\\n",
      "0     Unknown  debt_consolidation         NY  18.24          0.0   \n",
      "1     Unknown  debt_consolidation         LA  26.52          0.0   \n",
      "2     Unknown  debt_consolidation         MI  10.51          0.0   \n",
      "3     Unknown  debt_consolidation         WA  16.74          0.0   \n",
      "4     Unknown  debt_consolidation         MD  26.35          0.0   \n",
      "\n",
      "  initial_list_status  open_acc_6m  open_act_il  open_il_12m  il_util  \\\n",
      "0                   w          2.0          2.0          1.0     69.0   \n",
      "1                   w          3.0          4.0          2.0     88.0   \n",
      "2                   w          0.0          1.0          0.0     72.0   \n",
      "3                   w          1.0          5.0          3.0     68.0   \n",
      "4                   w          3.0          5.0          3.0     89.0   \n",
      "\n",
      "   open_rv_12m  inq_fi  inq_last_12m  acc_open_past_24mths  mort_acc  \\\n",
      "0          2.0     1.0           2.0                   8.0       0.0   \n",
      "1          3.0     2.0           2.0                   8.0       3.0   \n",
      "2          0.0     1.0           0.0                   4.0       2.0   \n",
      "3          0.0     2.0           3.0                   5.0       3.0   \n",
      "4          2.0     1.0           0.0                   8.0       2.0   \n",
      "\n",
      "   num_accts_ever_120_pd  num_tl_op_past_12m  tot_hi_cred_lim  \\\n",
      "0                    0.0                 3.0          60124.0   \n",
      "1                    0.0                 5.0         372872.0   \n",
      "2                    0.0                 0.0         136927.0   \n",
      "3                    0.0                 3.0         385183.0   \n",
      "4                    0.0                 5.0         157548.0   \n",
      "\n",
      "   total_bal_ex_mort  total_bc_limit  year  percent_complete  \\\n",
      "0            16901.0         36500.0  2018              6.68   \n",
      "1            99468.0         15000.0  2018              5.02   \n",
      "2            11749.0         13800.0  2018              7.08   \n",
      "3            36151.0          5000.0  2018              7.17   \n",
      "4            29674.0          9300.0  2018              4.74   \n",
      "\n",
      "     max_bal_bc_cat  num_sats_cat percent_bc_gt_75_cat  loan_status_count  \n",
      "0  (2000.0, 5000.0]   (5.0, 10.0]       (-0.001, 20.0]                  2  \n",
      "1  (-0.001, 1000.0]  (10.0, 20.0]       (-0.001, 20.0]                  2  \n",
      "2  (-0.001, 1000.0]   (5.0, 10.0]       (-0.001, 20.0]                  2  \n",
      "3  (2000.0, 5000.0]   (5.0, 10.0]        (80.0, 100.0]                  2  \n",
      "4  (-0.001, 1000.0]  (10.0, 20.0]       (-0.001, 20.0]                  2  \n"
     ]
    }
   ],
   "source": [
    "print(loan_data.head())"
   ]
  },
  {
   "cell_type": "code",
   "execution_count": 5,
   "metadata": {},
   "outputs": [],
   "source": [
    "col_to_drop = ['sub_grade', 'loan_status_count']\n",
    "df_final = loan_data.drop(col_to_drop, axis=1)"
   ]
  },
  {
   "cell_type": "code",
   "execution_count": 6,
   "metadata": {},
   "outputs": [],
   "source": [
    "df_known = df_final[df_final['loan_status'] != 'Unknown']\n",
    "df_unknown = df_final[df_final['loan_status'] == 'Unknown'].drop('loan_status', axis=1)\n"
   ]
  },
  {
   "cell_type": "code",
   "execution_count": 7,
   "metadata": {},
   "outputs": [],
   "source": [
    "df_known.to_csv('Loan_known_data.csv', index=False)\n",
    "df_unknown.to_csv('Loan_unknown_data.csv', index=False)"
   ]
  },
  {
   "cell_type": "code",
   "execution_count": null,
   "metadata": {},
   "outputs": [],
   "source": []
  }
 ],
 "metadata": {
  "kernelspec": {
   "display_name": "Python 3",
   "language": "python",
   "name": "python3"
  },
  "language_info": {
   "codemirror_mode": {
    "name": "ipython",
    "version": 3
   },
   "file_extension": ".py",
   "mimetype": "text/x-python",
   "name": "python",
   "nbconvert_exporter": "python",
   "pygments_lexer": "ipython3",
   "version": "3.8.3"
  }
 },
 "nbformat": 4,
 "nbformat_minor": 4
}
