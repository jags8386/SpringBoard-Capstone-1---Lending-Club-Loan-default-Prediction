{
 "cells": [
  {
   "cell_type": "code",
   "execution_count": 1,
   "metadata": {},
   "outputs": [],
   "source": [
    "import pandas as pd\n",
    "import matplotlib.pyplot as plt\n",
    "import numpy as np\n",
    "import seaborn as sns\n",
    "\n",
    "\n",
    "%matplotlib inline\n",
    "\n",
    "pd.set_option('display.max_columns', None)\n",
    "pd.set_option('display.max_rows', None)\n",
    "\n",
    "sns.set_style('whitegrid')"
   ]
  },
  {
   "cell_type": "code",
   "execution_count": 2,
   "metadata": {},
   "outputs": [
    {
     "name": "stdout",
     "output_type": "stream",
     "text": [
      "-->Read Chunk... 1\n",
      "-->Read Chunk... 2\n",
      "-->Read Chunk... 3\n",
      "-->Read Chunk... 4\n",
      "-->Read Chunk... 5\n"
     ]
    }
   ],
   "source": [
    "file1 = \"../data/raw/loan_sample.csv\"\n",
    "ChunkSize = 200000\n",
    "i = 1\n",
    "for chunk in pd.read_csv(file1, chunksize=ChunkSize, low_memory=False):\n",
    "    loan_data = chunk if i == 1 else pd.concat([loan_data, chunk])\n",
    "    print('-->Read Chunk...', i)\n",
    "    i += 1"
   ]
  },
  {
   "cell_type": "code",
   "execution_count": 8,
   "metadata": {},
   "outputs": [
    {
     "name": "stdout",
     "output_type": "stream",
     "text": [
      "                         Count  Percent\n",
      "next_pymnt_d            521326     57.7\n",
      "mths_since_last_delinq  463489     51.3\n",
      "il_util                 427560     47.3\n",
      "mths_since_rcnt_il      363938     40.2\n",
      "all_util                346556     38.3\n",
      "open_act_il             346468     38.3\n",
      "open_il_12m             346468     38.3\n",
      "open_il_24m             346468     38.3\n",
      "total_bal_il            346468     38.3\n",
      "open_acc_6m             346468     38.3\n",
      "open_rv_12m             346468     38.3\n",
      "open_rv_24m             346468     38.3\n",
      "max_bal_bc              346468     38.3\n",
      "inq_fi                  346468     38.3\n",
      "total_cu_tl             346468     38.3\n",
      "inq_last_12m            346468     38.3\n",
      "mths_since_recent_inq   118503     13.1\n"
     ]
    }
   ],
   "source": [
    "# print((data.isna().sum()[data.isna().sum() > 0]))\n",
    "df_null = pd.DataFrame({'Count': loan_data.isnull().sum(), 'Percent': 100*loan_data.isnull().sum()/len(loan_data)})\n",
    "print(df_null[df_null['Percent'] >= 10].sort_values(by='Percent', ascending=False).round(1))"
   ]
  },
  {
   "cell_type": "markdown",
   "metadata": {},
   "source": [
    "## Step 5A : Checking data in columns with missing data more than 10% \n",
    "Lets examine few values of this columns so we can get idea what kind of data estimation we need to do."
   ]
  },
  {
   "cell_type": "code",
   "execution_count": 10,
   "metadata": {},
   "outputs": [
    {
     "name": "stdout",
     "output_type": "stream",
     "text": [
      "   mths_since_last_delinq next_pymnt_d  open_acc_6m  open_act_il  open_il_12m  \\\n",
      "0                     NaN          NaN          0.0          0.0          0.0   \n",
      "1                    50.0          NaN          0.0          1.0          0.0   \n",
      "2                     NaN          NaN          2.0          2.0          0.0   \n",
      "\n",
      "   open_il_24m  mths_since_rcnt_il  total_bal_il  il_util  open_rv_12m  \\\n",
      "0          0.0                 NaN           0.0      NaN          0.0   \n",
      "1          0.0                45.0       57500.0      NaN          0.0   \n",
      "2          0.0                28.0        9283.0     32.0          2.0   \n",
      "\n",
      "   open_rv_24m  max_bal_bc  all_util  inq_fi  total_cu_tl  inq_last_12m  \\\n",
      "0          0.0      4600.0      37.0     0.0          0.0           0.0   \n",
      "1          2.0      3739.0      32.0     0.0          0.0           0.0   \n",
      "2          5.0      5395.0      57.0     0.0          0.0           4.0   \n",
      "\n",
      "   mths_since_recent_inq  \n",
      "0                    NaN  \n",
      "1                    NaN  \n",
      "2                    3.0  \n"
     ]
    }
   ],
   "source": [
    "col_10 = list(df_null[df_null['Percent'] > 10].index)\n",
    "print(loan_data[col_10].head(3))"
   ]
  },
  {
   "cell_type": "markdown",
   "metadata": {},
   "source": [
    "## Step 5B : Dropping payment dates columns \n",
    "As we see above data set most missing data is numeric and we can use mode or median in order to fill missing values. By looking at dataset and name of columns, mode will be better option compared to median for most of columns. For \"total_bil_il\" we will use median. Lets analyze mode and median of those columns. But before we need to drop 3 columns which is not useful for our analysis. Those are 1) \"next_pymnt_dt 2) 'last_credit_pull_d' 3) 'last_pymnt_d'\n",
    "Lets create a list of these columns."
   ]
  },
  {
   "cell_type": "code",
   "execution_count": 12,
   "metadata": {},
   "outputs": [],
   "source": [
    "# print(df_clean.shape)\n",
    "cols_to_drop = ['next_pymnt_d', 'last_credit_pull_d', 'last_pymnt_d']\n",
    "loan_data.drop(cols_to_drop, axis=1, inplace=True)\n",
    "df_null = pd.DataFrame({'Count': loan_data.isnull().sum(), 'Percent': 100*loan_data.isnull().sum()/len(loan_data)})"
   ]
  },
  {
   "cell_type": "markdown",
   "metadata": {},
   "source": [
    "## Step 5C : Checking mode and median of missing data columns \n",
    "Now we will eamine mode and median of all columns those we trying to do estiamtion."
   ]
  },
  {
   "cell_type": "code",
   "execution_count": 15,
   "metadata": {},
   "outputs": [
    {
     "name": "stdout",
     "output_type": "stream",
     "text": [
      "                         Count  Percent  mode   median     mean\n",
      "mths_since_last_delinq  463489     51.3  12.0     31.0     34.6\n",
      "open_acc_6m             346468     38.3   0.0      1.0      0.9\n",
      "open_act_il             346468     38.3   1.0      2.0      2.8\n",
      "open_il_12m             346468     38.3   0.0      0.0      0.7\n",
      "open_il_24m             346468     38.3   1.0      1.0      1.6\n",
      "mths_since_rcnt_il      363938     40.2   7.0     13.0     21.2\n",
      "total_bal_il            346468     38.3   0.0  23108.0  35503.3\n",
      "il_util                 427560     47.3  78.0     72.0     69.1\n",
      "open_rv_12m             346468     38.3   0.0      1.0      1.3\n",
      "open_rv_24m             346468     38.3   1.0      2.0      2.8\n",
      "max_bal_bc              346468     38.3   0.0   4422.0   5813.6\n",
      "all_util                346556     38.3  59.0     58.0     57.0\n",
      "inq_fi                  346468     38.3   0.0      1.0      1.0\n",
      "total_cu_tl             346468     38.3   0.0      0.0      1.5\n",
      "inq_last_12m            346468     38.3   0.0      1.0      2.0\n",
      "mths_since_recent_inq   118503     13.1   1.0      5.0      7.0\n"
     ]
    }
   ],
   "source": [
    "col_10 = list(df_null[df_null['Percent'] > 10].index)\n",
    "# print(col_10)\n",
    "# print(df_null.loc[col_10, :])\n",
    "for index in col_10:\n",
    "    df_null.loc[index, 'mode'] = loan_data[index].mode()[0]\n",
    "    df_null.loc[index, 'median'] = loan_data[index].median()\n",
    "    df_null.loc[index, 'mean'] = loan_data[index].mean()\n",
    "print(df_null.loc[col_10, :].round(1))\n"
   ]
  },
  {
   "cell_type": "markdown",
   "metadata": {},
   "source": [
    "## Step 5D : predicting missing values using mode \n",
    "By looking at above table, it makes more sense to fill all above columns by mode rather than median. Lets fill those missing values in above columns using mode."
   ]
  },
  {
   "cell_type": "code",
   "execution_count": 16,
   "metadata": {},
   "outputs": [],
   "source": [
    "loan_data[col_10] = loan_data[col_10].fillna(loan_data.mode().iloc[0])"
   ]
  },
  {
   "cell_type": "markdown",
   "metadata": {},
   "source": [
    "## Step 6 : Dropping all missing data \n",
    "Now lets examine remaining missing data. Most columns will have missing data less than 10%. We will simply drop them. We may see lot of columns having missing data less than 10%. We will simply drop them. That way we will only lose 10% of data"
   ]
  },
  {
   "cell_type": "code",
   "execution_count": 20,
   "metadata": {},
   "outputs": [
    {
     "name": "stdout",
     "output_type": "stream",
     "text": [
      "(741542, 100)\n"
     ]
    }
   ],
   "source": [
    "df_clean = loan_data.dropna()\n",
    "print(loan_data.shape)\n"
   ]
  },
  {
   "cell_type": "markdown",
   "metadata": {},
   "source": [
    "## Get year info from Issue Date"
   ]
  },
  {
   "cell_type": "code",
   "execution_count": 21,
   "metadata": {},
   "outputs": [
    {
     "data": {
      "text/plain": [
       "1    2016\n",
       "2    2016\n",
       "3    2017\n",
       "4    2017\n",
       "5    2013\n",
       "Name: year, dtype: int64"
      ]
     },
     "execution_count": 21,
     "metadata": {},
     "output_type": "execute_result"
    }
   ],
   "source": [
    "df_clean['year'] = pd.to_datetime(df_clean['issue_d']).dt.year\n",
    "df_clean = df_clean.drop('issue_d', axis=1)\n",
    "df_clean['year'].head()"
   ]
  },
  {
   "cell_type": "code",
   "execution_count": 22,
   "metadata": {},
   "outputs": [],
   "source": [
    "df_clean['percent_complete'] = (df_clean['total_pymnt']*100 / df_clean['loan_amnt']).round(2)\n",
    "# print(df_clean[df_clean['loan_status'] == \"Fully Paid\"]['percent_complete'].head())"
   ]
  },
  {
   "cell_type": "code",
   "execution_count": 23,
   "metadata": {},
   "outputs": [],
   "source": [
    "df_clean['open_acc_6m'] = df_clean['open_acc_6m'].apply(lambda x: 3 if x>=3 else x)\n",
    "df_clean['open_act_il'] = df_clean['open_act_il'].apply(lambda x: 5 if x>=5 else x)\n",
    "df_clean['open_il_12m'] = df_clean['open_il_12m'].apply(lambda x: 3 if x>=3 else x)\n",
    "df_clean['open_rv_12m'] = df_clean['open_rv_12m'].apply(lambda x: 3 if x>=3 else x)\n",
    "df_clean['inq_fi'] = df_clean['inq_fi'].apply(lambda x: 3 if x>=3 else x)\n",
    "df_clean['inq_last_12m'] = df_clean['inq_last_12m'].apply(lambda x: 4 if x>=4 else x)\n",
    "df_clean['acc_open_past_24mths'] = df_clean['acc_open_past_24mths'].apply(lambda x: 8 if x>=8 else x)\n",
    "df_clean['mort_acc'] = df_clean['mort_acc'].apply(lambda x: 4 if x>=4 else x)\n",
    "df_clean['num_accts_ever_120_pd'] = df_clean['num_accts_ever_120_pd'].apply(lambda x: 3 if x>=3 else x)\n",
    "df_clean['num_tl_op_past_12m'] = df_clean['num_tl_op_past_12m'].apply(lambda x: 5 if x>=5 else x)"
   ]
  },
  {
   "cell_type": "code",
   "execution_count": 24,
   "metadata": {},
   "outputs": [
    {
     "data": {
      "text/plain": [
       "1      (20.0, 40.0]\n",
       "2     (80.0, 100.0]\n",
       "3      (20.0, 40.0]\n",
       "4    (-0.001, 20.0]\n",
       "5    (-0.001, 20.0]\n",
       "Name: percent_bc_gt_75_cat, dtype: category\n",
       "Categories (5, interval[float64]): [(-0.001, 20.0] < (20.0, 40.0] < (40.0, 60.0] < (60.0, 80.0] < (80.0, 100.0]]"
      ]
     },
     "execution_count": 24,
     "metadata": {},
     "output_type": "execute_result"
    }
   ],
   "source": [
    "df_clean['max_bal_bc_cat'] = pd.cut(x=df_clean['max_bal_bc'], bins=[0, 1000, 2000, 5000, 10000 ,1000000],\\\n",
    "                                    include_lowest=True)\n",
    "df_clean['num_sats_cat'] = pd.cut(x=df_clean['num_sats'], bins=[0, 5, 10, 20, 30 ,150],include_lowest=True)\n",
    "df_clean['pct_tl_nvr_dlq_cat'] = pd.cut(x=df_clean['pct_tl_nvr_dlq'], bins=[0, 60, 70, 80, 90 ,100],include_lowest=True)\n",
    "df_clean['percent_bc_gt_75_cat'] = pd.cut(x=df_clean['percent_bc_gt_75'], bins=[0, 20, 40, 60, 80 ,100],include_lowest=True)\n",
    "df_clean['percent_bc_gt_75_cat'].head()"
   ]
  },
  {
   "cell_type": "markdown",
   "metadata": {},
   "source": [
    "## Finding Out redundant values\n",
    "We will use value_count(normalize=True) function in order to find out redundant values"
   ]
  },
  {
   "cell_type": "code",
   "execution_count": 25,
   "metadata": {},
   "outputs": [
    {
     "name": "stdout",
     "output_type": "stream",
     "text": [
      "N    99.96\n",
      "Y     0.04\n",
      "Name: hardship_flag, dtype: float64\n",
      "---- mo_sin_old_il_acct ---\n",
      "Max value = 0.010000\n",
      "Length = 495\n",
      "---- mort_acc ---\n",
      "Max value = 0.410000\n",
      "Length = 5\n",
      "---- num_accts_ever_120_pd ---\n",
      "Max value = 0.760000\n",
      "Length = 4\n",
      "---- num_rev_accts ---\n",
      "Max value = 0.060000\n",
      "Length = 105\n",
      "---- num_rev_tl_bal_gt_0 ---\n",
      "Max value = 0.160000\n",
      "Length = 45\n",
      "---- num_sats_cat ---\n",
      "Max value = 0.450000\n",
      "Length = 5\n",
      "---- num_tl_120dpd_2m ---\n",
      "Max value = 1.000000\n",
      "Length = 5\n",
      "---- num_tl_30dpd ---\n",
      "Max value = 1.000000\n",
      "Length = 5\n",
      "---- num_tl_90g_dpd_24m ---\n",
      "Max value = 0.950000\n",
      "Length = 26\n",
      "---- num_tl_op_past_12m ---\n",
      "Max value = 0.250000\n",
      "Length = 6\n",
      "---- pct_tl_nvr_dlq_cat ---\n",
      "Max value = 0.780000\n",
      "Length = 5\n",
      "---- percent_bc_gt_75_cat ---\n",
      "Max value = 0.360000\n",
      "Length = 5\n",
      "---- pub_rec_bankruptcies ---\n",
      "Max value = 0.880000\n",
      "Length = 12\n",
      "---- tax_liens ---\n",
      "Max value = 0.970000\n",
      "Length = 34\n",
      "---- tot_hi_cred_lim ---\n",
      "Max value = 0.000000\n",
      "Length = 341890\n",
      "---- hardship_flag ---\n",
      "Max value = 1.000000\n",
      "Length = 2\n"
     ]
    }
   ],
   "source": [
    "col_list = ['mo_sin_old_il_acct', 'mort_acc', 'num_accts_ever_120_pd', 'num_rev_accts', 'num_rev_tl_bal_gt_0',\\\n",
    "            'num_sats_cat', 'num_tl_120dpd_2m', 'num_tl_30dpd', 'num_tl_90g_dpd_24m', 'num_tl_op_past_12m', \\\n",
    "           'pct_tl_nvr_dlq_cat', 'percent_bc_gt_75_cat', 'pub_rec_bankruptcies', 'tax_liens', 'tot_hi_cred_lim', \\\n",
    "           'hardship_flag']\n",
    "# print(col_list)\n",
    "print(df_clean['hardship_flag'].value_counts(normalize=True).round(4)*100)\n",
    "# print(df_clean['num_sats'].nlargest(5))\n",
    "for c in col_list:\n",
    "    print (\"---- %s ---\" % c)\n",
    "    df_t = df_clean[c].value_counts(normalize=True).round(2)\n",
    "    \n",
    "    print(\"Max value = %f\" %df_t.max())\n",
    "    print(\"Length = %d\" %len(df_t))"
   ]
  },
  {
   "cell_type": "code",
   "execution_count": 26,
   "metadata": {},
   "outputs": [
    {
     "name": "stdout",
     "output_type": "stream",
     "text": [
      "71\n"
     ]
    }
   ],
   "source": [
    "col_list2 = ['pymnt_plan', 'inq_last_6mths', 'mths_since_last_delinq', 'open_acc', 'pub_rec', 'revol_bal', 'revol_util',\\\n",
    "            'total_acc', 'out_prncp', 'out_prncp_inv',  'total_pymnt', 'total_pymnt_inv', 'total_rec_prncp', \\\n",
    "             'total_rec_int', 'total_rec_late_fee', 'recoveries', 'collection_recovery_fee', 'last_pymnt_amnt',\\\n",
    "            'collections_12_mths_ex_med', 'policy_code',  'application_type',  'acc_now_delinq', 'tot_coll_amt', \\\n",
    "            'tot_cur_bal', 'open_il_24m', 'mths_since_rcnt_il', 'total_bal_il', 'open_rv_24m', 'max_bal_bc', \\\n",
    "             'all_util', 'total_rev_hi_lim', 'total_cu_tl', 'avg_cur_bal', 'bc_open_to_buy', 'bc_util', \\\n",
    "             'chargeoff_within_12_mths', 'delinq_amnt', 'mo_sin_old_il_acct', 'mo_sin_old_rev_tl_op',\\\n",
    "             'mo_sin_rcnt_rev_tl_op', 'mo_sin_rcnt_tl', 'mths_since_recent_bc', 'mths_since_recent_inq', 'num_actv_bc_tl',\\\n",
    "            'num_actv_rev_tl', 'num_bc_sats', 'num_bc_tl', 'num_il_tl', 'num_op_rev_tl', 'num_rev_accts', \\\n",
    "            'num_rev_tl_bal_gt_0', 'num_tl_120dpd_2m', 'num_tl_30dpd', 'num_tl_90g_dpd_24m', 'pct_tl_nvr_dlq_cat',\\\n",
    "            'pct_tl_nvr_dlq', 'pub_rec_bankruptcies', 'tax_liens', 'total_il_high_credit_limit', 'hardship_flag',\\\n",
    "            'disbursement_method', 'debt_settlement_flag', 'max_bal_bc', 'num_sats', 'pct_tl_nvr_dlq', 'percent_bc_gt_75',\\\n",
    "            'funded_amnt_inv', 'zip_code', 'funded_amnt',  'title', 'earliest_cr_line', ]\n",
    "print(len(col_list2))\n",
    "# df_clean['pymnt_plan'].value_counts(normalize=True)"
   ]
  },
  {
   "cell_type": "markdown",
   "metadata": {},
   "source": [
    "## Step 7 : Analyzing datatypes of clean data \n",
    "Now we have get rid of all missing data. Dataset is almost clean. Lets see datatypes of datasets."
   ]
  },
  {
   "cell_type": "code",
   "execution_count": 27,
   "metadata": {},
   "outputs": [
    {
     "name": "stdout",
     "output_type": "stream",
     "text": [
      "loan_amnt                   int64\n",
      "term                       object\n",
      "int_rate                  float64\n",
      "installment               float64\n",
      "grade                      object\n",
      "sub_grade                  object\n",
      "emp_title                  object\n",
      "emp_length                 object\n",
      "home_ownership             object\n",
      "annual_inc                float64\n",
      "verification_status        object\n",
      "loan_status                object\n",
      "purpose                    object\n",
      "addr_state                 object\n",
      "dti                       float64\n",
      "delinq_2yrs               float64\n",
      "initial_list_status        object\n",
      "open_acc_6m               float64\n",
      "open_act_il               float64\n",
      "open_il_12m               float64\n",
      "il_util                   float64\n",
      "open_rv_12m               float64\n",
      "inq_fi                    float64\n",
      "inq_last_12m              float64\n",
      "acc_open_past_24mths      float64\n",
      "mort_acc                  float64\n",
      "num_accts_ever_120_pd     float64\n",
      "num_tl_op_past_12m        float64\n",
      "tot_hi_cred_lim           float64\n",
      "total_bal_ex_mort         float64\n",
      "total_bc_limit            float64\n",
      "year                        int64\n",
      "percent_complete          float64\n",
      "max_bal_bc_cat           category\n",
      "num_sats_cat             category\n",
      "percent_bc_gt_75_cat     category\n",
      "dtype: object\n"
     ]
    }
   ],
   "source": [
    "# print(df_clean.dtypes)\n",
    "\n",
    "df_clean2 = df_clean.drop(col_list2, axis=1) \n",
    "\n",
    "print(df_clean2.dtypes)"
   ]
  },
  {
   "cell_type": "markdown",
   "metadata": {},
   "source": [
    "## Step 8 : Fixing \"Employment Length\" column \n",
    "In above datatypes one of the important title is employment length. We should be expecting it as integer or float but it is object type. Lets analyze this column."
   ]
  },
  {
   "cell_type": "code",
   "execution_count": 28,
   "metadata": {},
   "outputs": [
    {
     "name": "stdout",
     "output_type": "stream",
     "text": [
      "10+ years    266035\n",
      "2 years       71507\n",
      "3 years       63512\n",
      "< 1 year      63033\n",
      "1 year        51543\n",
      "5 years       48532\n",
      "4 years       47712\n",
      "6 years       35884\n",
      "7 years       32829\n",
      "8 years       32665\n",
      "9 years       28290\n",
      "Name: emp_length, dtype: int64\n"
     ]
    }
   ],
   "source": [
    "print(df_clean2['emp_length'].value_counts())"
   ]
  },
  {
   "cell_type": "code",
   "execution_count": 29,
   "metadata": {},
   "outputs": [
    {
     "name": "stdout",
     "output_type": "stream",
     "text": [
      "10    266035\n",
      "2      71507\n",
      "3      63512\n",
      "0      63033\n",
      "1      51543\n",
      "5      48532\n",
      "4      47712\n",
      "6      35884\n",
      "7      32829\n",
      "8      32665\n",
      "9      28290\n",
      "Name: emp_length, dtype: int64\n"
     ]
    }
   ],
   "source": [
    "# df_clean['emp_length'].astype('str').dtypes\n",
    "df_clean2['emp_length'] = df_clean2['emp_length'].str.replace(r'[+]\\s|[a-z]', '')\n",
    "df_clean2['emp_length'] = df_clean2['emp_length'].str.replace('< 1', '0')\n",
    "# df_clean['emp_length'] = df_clean['emp_length'].str.replace('10+ ', '10')\n",
    "\n",
    "print(df_clean2['emp_length'].value_counts())"
   ]
  },
  {
   "cell_type": "code",
   "execution_count": 30,
   "metadata": {},
   "outputs": [],
   "source": [
    "# df_clean2['year'] = pd.to_datetime(df_clean2['issue_d']).dt.year\n",
    "# print(train_data['loan_status'].value_counts())\n",
    "# train_data['status_var'] = train_data['loan_status'].map({'Fully Paid':0, 'Charged Off':1, 'Late (31-120 days)':1, \\\n",
    "#                                                         'In Grace Period':1, 'Late (16-30 days)':1, 'Default':1})\n",
    "# print(train_data['status_var'].value_counts())\n",
    "loan_status_dict = {\"Fully Paid\": 0, \"Charged Off\": 1, \"Late (31-120 days)\": 1,\n",
    "                    \"In Grace Period\": 1, \"Late (16-30 days)\": 1, \"Default\": 1, \"Current\" : 2}\n",
    "# known_status = df_clean2['loan_status'] != 'Current'\n",
    "df_clean2[\"loan_status_count\"] = df_clean2[\"loan_status\"].map(loan_status_dict)\n",
    "df_clean2[\"loan_status_count\"] = df_clean2[\"loan_status_count\"].astype(\"int\")\n",
    "\n",
    "# loan_known_data = df_clean2[known_status].reset_index()\n",
    "loan_status_dict = {0.0: \"Good loans\", 1.0: \"Bad loans\", 2.0: 'Unknown'}\n",
    "df_clean2[\"loan_status\"] = df_clean2[\"loan_status_count\"].map(loan_status_dict)"
   ]
  },
  {
   "cell_type": "code",
   "execution_count": 31,
   "metadata": {},
   "outputs": [
    {
     "name": "stdout",
     "output_type": "stream",
     "text": [
      "(741542, 37)\n",
      "   loan_amnt        term  int_rate  installment grade sub_grade  \\\n",
      "1       8400   36 months     10.75       274.02     B        B4   \n",
      "2       6000   36 months     17.27       214.73     D        D2   \n",
      "3      15000   36 months      9.93       483.52     B        B2   \n",
      "4       5600   36 months      7.35       173.81     A        A4   \n",
      "5      12000   36 months     11.55       396.00     B        B3   \n",
      "\n",
      "                  emp_title emp_length home_ownership  annual_inc  \\\n",
      "1  Administrative Assistant         4            RENT    49999.00   \n",
      "2                   Teacher         10            OWN    72000.00   \n",
      "3                 Professor         1        MORTGAGE    80000.00   \n",
      "4        Software Developer         4            RENT    78618.00   \n",
      "5                      ucsf         1            RENT   120000.00   \n",
      "\n",
      "  verification_status loan_status             purpose addr_state   dti  \\\n",
      "1            Verified   Bad loans  debt_consolidation         NY  4.61   \n",
      "2        Not Verified  Good loans    home_improvement         MI 22.80   \n",
      "3        Not Verified     Unknown         credit_card         GA 15.26   \n",
      "4            Verified     Unknown               other         TX 29.60   \n",
      "5     Source Verified  Good loans  debt_consolidation         CA  5.75   \n",
      "\n",
      "   delinq_2yrs initial_list_status  open_acc_6m  open_act_il  open_il_12m  \\\n",
      "1         0.00                   f         0.00         1.00         0.00   \n",
      "2         0.00                   w         2.00         2.00         0.00   \n",
      "3         0.00                   w         0.00         5.00         1.00   \n",
      "4         0.00                   w         0.00         5.00         1.00   \n",
      "5         0.00                   f         0.00         1.00         0.00   \n",
      "\n",
      "   il_util  open_rv_12m  inq_fi  inq_last_12m  acc_open_past_24mths  mort_acc  \\\n",
      "1    78.00         0.00    0.00          0.00                  2.00      0.00   \n",
      "2    32.00         2.00    0.00          4.00                  5.00      0.00   \n",
      "3    70.00         0.00    0.00          0.00                  2.00      2.00   \n",
      "4    62.00         0.00    0.00          1.00                  4.00      0.00   \n",
      "5    78.00         0.00    0.00          0.00                  4.00      0.00   \n",
      "\n",
      "   num_accts_ever_120_pd  num_tl_op_past_12m  tot_hi_cred_lim  \\\n",
      "1                   0.00                0.00         77000.00   \n",
      "2                   0.00                2.00         53296.00   \n",
      "3                   0.00                1.00        183350.00   \n",
      "4                   0.00                1.00        137320.00   \n",
      "5                   0.00                2.00         34419.00   \n",
      "\n",
      "   total_bal_ex_mort  total_bc_limit  year  percent_complete  \\\n",
      "1           63633.00         9900.00  2016             59.89   \n",
      "2           30256.00        15800.00  2016            127.56   \n",
      "3           53878.00        28700.00  2017             67.64   \n",
      "4           79005.00        27500.00  2017             59.07   \n",
      "5           18628.00         7181.00  2013            117.01   \n",
      "\n",
      "      max_bal_bc_cat  num_sats_cat percent_bc_gt_75_cat  loan_status_count  \n",
      "1   (2000.0, 5000.0]   (5.0, 10.0]         (20.0, 40.0]                  1  \n",
      "2  (5000.0, 10000.0]  (10.0, 20.0]        (80.0, 100.0]                  0  \n",
      "3  (5000.0, 10000.0]  (10.0, 20.0]         (20.0, 40.0]                  2  \n",
      "4   (2000.0, 5000.0]  (10.0, 20.0]       (-0.001, 20.0]                  2  \n",
      "5   (-0.001, 1000.0]   (5.0, 10.0]       (-0.001, 20.0]                  0  \n"
     ]
    }
   ],
   "source": [
    "# df_clean3 = df_clean2.drop('loan_status')\n",
    "print(df_clean2.shape)\n",
    "pd.options.display.float_format = '{:.2f}'.format\n",
    "print(df_clean2.head())"
   ]
  },
  {
   "cell_type": "code",
   "execution_count": 32,
   "metadata": {},
   "outputs": [],
   "source": [
    "df_clean2.to_csv(\"../data/processed/Loan_cleandata2.csv\", index=False)"
   ]
  },
  {
   "cell_type": "code",
   "execution_count": null,
   "metadata": {},
   "outputs": [],
   "source": []
  }
 ],
 "metadata": {
  "kernelspec": {
   "display_name": "Python 3",
   "language": "python",
   "name": "python3"
  },
  "language_info": {
   "codemirror_mode": {
    "name": "ipython",
    "version": 3
   },
   "file_extension": ".py",
   "mimetype": "text/x-python",
   "name": "python",
   "nbconvert_exporter": "python",
   "pygments_lexer": "ipython3",
   "version": "3.8.3"
  }
 },
 "nbformat": 4,
 "nbformat_minor": 4
}
