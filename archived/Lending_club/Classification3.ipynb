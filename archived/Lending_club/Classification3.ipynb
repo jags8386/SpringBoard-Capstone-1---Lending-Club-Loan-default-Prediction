{
 "cells": [
  {
   "cell_type": "code",
   "execution_count": 1,
   "metadata": {},
   "outputs": [
    {
     "name": "stdout",
     "output_type": "stream",
     "text": [
      "Populating the interactive namespace from numpy and matplotlib\n"
     ]
    }
   ],
   "source": [
    "#imports and settings\n",
    "import pandas as pd \n",
    "pd.set_option('display.expand_frame_repr', False)\n",
    "import numpy as np\n",
    "from matplotlib import pyplot as plt \n",
    "plt.style.use('fivethirtyeight')\n",
    "from patsy import dmatrices\n",
    "%pylab inline\n",
    "import warnings\n",
    "warnings.filterwarnings('ignore')\n",
    "pd.set_option('display.max_columns', None)\n",
    "pd.set_option('display.max_rows', None)"
   ]
  },
  {
   "cell_type": "code",
   "execution_count": 2,
   "metadata": {},
   "outputs": [
    {
     "name": "stdout",
     "output_type": "stream",
     "text": [
      "-->Read Chunk... 1\n",
      "-->Read Chunk... 2\n",
      "-->Read Chunk... 3\n",
      "-->Read Chunk... 4\n",
      "-->Read Chunk... 5\n",
      "-->Read Chunk... 6\n",
      "-->Read Chunk... 7\n",
      "-->Read Chunk... 8\n",
      "-->Read Chunk... 9\n",
      "-->Read Chunk... 10\n"
     ]
    }
   ],
   "source": [
    "file1 = \"loan_sample.csv\"\n",
    "\n",
    "ChunkSize = 100000\n",
    "i = 1\n",
    "for chunk in pd.read_csv(file1, chunksize=ChunkSize, low_memory=False):\n",
    "    data = chunk if i == 1 else pd.concat([data, chunk])\n",
    "    print('-->Read Chunk...', i)\n",
    "    i += 1\n"
   ]
  },
  {
   "cell_type": "code",
   "execution_count": 3,
   "metadata": {},
   "outputs": [
    {
     "data": {
      "text/plain": [
       "Fully Paid                                             417554\n",
       "Current                                                367387\n",
       "Charged Off                                            104610\n",
       "Late (31-120 days)                                       8623\n",
       "In Grace Period                                          3511\n",
       "Late (16-30 days)                                        1490\n",
       "Does not meet the credit policy. Status:Fully Paid        776\n",
       "Does not meet the credit policy. Status:Charged Off       302\n",
       "Default                                                    14\n",
       "Name: loan_status, dtype: int64"
      ]
     },
     "execution_count": 3,
     "metadata": {},
     "output_type": "execute_result"
    }
   ],
   "source": [
    "df_sample = data.copy()\n",
    "df_sample['loan_status'].value_counts()"
   ]
  },
  {
   "cell_type": "code",
   "execution_count": 4,
   "metadata": {},
   "outputs": [
    {
     "data": {
      "text/plain": [
       "Fully Paid     417554\n",
       "Charged Off    104610\n",
       "Default            14\n",
       "Name: loan_status, dtype: int64"
      ]
     },
     "execution_count": 4,
     "metadata": {},
     "output_type": "execute_result"
    }
   ],
   "source": [
    "#getting rid of loans with statuses we do not care about\n",
    "#we do not care about current loans \n",
    "#explanation of difference between charged off and default https://help.lendingclub.com/hc/en-us/articles/216127747\n",
    "#we only care about those loans that are either fully paid or are\n",
    "#very late\n",
    "#too little examples with \"does not meet the credit policy\" to care about these...\n",
    "mask = df_sample['loan_status'].isin(['Fully Paid','Charged Off','Default'])\n",
    "df_sample = df_sample[mask]\n",
    "df_sample['loan_status'].value_counts()"
   ]
  },
  {
   "cell_type": "code",
   "execution_count": 5,
   "metadata": {},
   "outputs": [
    {
     "data": {
      "text/plain": [
       "0    417554\n",
       "1    104624\n",
       "Name: Late_Loan, dtype: int64"
      ]
     },
     "execution_count": 5,
     "metadata": {},
     "output_type": "execute_result"
    }
   ],
   "source": [
    "# now we only work with loans that are either fully paid or late > 121 days\n",
    "# We create target variable with these two possible values. Positive class\n",
    "# are late loans - we care about these and want to analyze in detail. \n",
    "\n",
    "def CreateTarget(status): \n",
    "    if status == 'Fully Paid':\n",
    "        return 0\n",
    "    else:\n",
    "        return 1\n",
    "    \n",
    "df_sample['Late_Loan'] = df_sample['loan_status'].map(CreateTarget)\n",
    "df_sample['Late_Loan'].value_counts()"
   ]
  },
  {
   "cell_type": "code",
   "execution_count": 6,
   "metadata": {
    "scrolled": false
   },
   "outputs": [],
   "source": [
    "#drop features with more than 25% missing values\n",
    "features_missing_series = df_sample.isnull().sum() > len(df_sample)/10\n",
    "features_missing_series = features_missing_series[features_missing_series == True]\n",
    "features_missing_list =  features_missing_series.index.tolist()\n",
    "df_sample = df_sample.drop(features_missing_list,axis =1)\n",
    "\n",
    "# drop features that have no or little predictive power and original target\n",
    "df_sample = df_sample.drop(['loan_status','zip_code','policy_code','application_type','last_pymnt_d','last_credit_pull_d','verification_status','pymnt_plan','funded_amnt','funded_amnt_inv','sub_grade','out_prncp','out_prncp_inv','total_pymnt_inv','total_pymnt','total_pymnt_inv','total_rec_prncp','total_rec_int','total_rec_late_fee','recoveries','collection_recovery_fee','last_pymnt_amnt','initial_list_status','earliest_cr_line'],axis =1)\n"
   ]
  },
  {
   "cell_type": "code",
   "execution_count": 7,
   "metadata": {},
   "outputs": [],
   "source": [
    "#replace missing values with Unknown value or mean when feature is numerical\n",
    "df_sample['emp_title'].fillna('Unknown',inplace = True)\n",
    "df_sample['title'].fillna('Unknown',inplace = True)\n",
    "df_sample['revol_util'].fillna(df_sample['revol_util'].mean(),inplace = True)\n",
    "df_sample['collections_12_mths_ex_med'].fillna(df_sample['collections_12_mths_ex_med'].mean(),inplace = True)\n",
    "\n",
    "df_sample = df_sample.drop(df_sample.columns[0], axis=1)"
   ]
  },
  {
   "cell_type": "code",
   "execution_count": 8,
   "metadata": {},
   "outputs": [
    {
     "data": {
      "text/plain": [
       "loan_amnt                         0\n",
       "term                              0\n",
       "int_rate                          0\n",
       "installment                       0\n",
       "grade                             0\n",
       "emp_title                         0\n",
       "emp_length                    30167\n",
       "home_ownership                    0\n",
       "annual_inc                        0\n",
       "issue_d                           0\n",
       "purpose                           0\n",
       "title                             0\n",
       "addr_state                        0\n",
       "dti                             130\n",
       "delinq_2yrs                       0\n",
       "inq_last_6mths                    0\n",
       "open_acc                          0\n",
       "pub_rec                           0\n",
       "revol_bal                         0\n",
       "revol_util                        0\n",
       "total_acc                         0\n",
       "collections_12_mths_ex_med        0\n",
       "acc_now_delinq                    0\n",
       "tot_coll_amt                  27058\n",
       "tot_cur_bal                   27058\n",
       "total_rev_hi_lim              27058\n",
       "acc_open_past_24mths          18999\n",
       "avg_cur_bal                   27065\n",
       "bc_open_to_buy                24357\n",
       "bc_util                       24637\n",
       "chargeoff_within_12_mths         20\n",
       "delinq_amnt                       0\n",
       "mo_sin_old_il_acct            41869\n",
       "mo_sin_old_rev_tl_op          27058\n",
       "mo_sin_rcnt_rev_tl_op         27058\n",
       "mo_sin_rcnt_tl                27058\n",
       "mort_acc                      18999\n",
       "mths_since_recent_bc          24014\n",
       "num_accts_ever_120_pd         27058\n",
       "num_actv_bc_tl                27058\n",
       "num_actv_rev_tl               27058\n",
       "num_bc_sats                   22393\n",
       "num_bc_tl                     27058\n",
       "num_il_tl                     27058\n",
       "num_op_rev_tl                 27058\n",
       "num_rev_accts                 27059\n",
       "num_rev_tl_bal_gt_0           27058\n",
       "num_sats                      22393\n",
       "num_tl_120dpd_2m              46381\n",
       "num_tl_30dpd                  27058\n",
       "num_tl_90g_dpd_24m            27058\n",
       "num_tl_op_past_12m            27058\n",
       "pct_tl_nvr_dlq                27130\n",
       "percent_bc_gt_75              24523\n",
       "pub_rec_bankruptcies            283\n",
       "tax_liens                        15\n",
       "tot_hi_cred_lim               27058\n",
       "total_bal_ex_mort             18999\n",
       "total_bc_limit                18999\n",
       "total_il_high_credit_limit    27058\n",
       "hardship_flag                     0\n",
       "disbursement_method               0\n",
       "debt_settlement_flag              0\n",
       "Late_Loan                         0\n",
       "dtype: int64"
      ]
     },
     "execution_count": 8,
     "metadata": {},
     "output_type": "execute_result"
    }
   ],
   "source": [
    "\n",
    "df_sample.isnull().sum()"
   ]
  },
  {
   "cell_type": "code",
   "execution_count": 9,
   "metadata": {},
   "outputs": [
    {
     "name": "stdout",
     "output_type": "stream",
     "text": [
      "10    171557\n",
      "2      47270\n",
      "3      41816\n",
      "0      41743\n",
      "1      34429\n",
      "5      32802\n",
      "4      31184\n",
      "6      24761\n",
      "8      23653\n",
      "7      23256\n",
      "9      19540\n",
      "Name: emp_length, dtype: int64\n"
     ]
    }
   ],
   "source": [
    "#new numerical emp_length feature\n",
    "# df_clean['emp_length'].astype('str').dtypes\n",
    "df_sample['emp_length'] = df_sample['emp_length'].str.replace(r'[+]\\s|[a-z]', '')\n",
    "df_sample['emp_length'] = df_sample['emp_length'].str.replace('< 1', '0')\n",
    "# df_clean['emp_length'] = df_clean['emp_length'].str.replace('10+ ', '10')\n",
    "\n",
    "print(df_sample['emp_length'].value_counts())"
   ]
  },
  {
   "cell_type": "code",
   "execution_count": 10,
   "metadata": {},
   "outputs": [
    {
     "data": {
      "text/plain": [
       "loan_amnt                         0\n",
       "term                              0\n",
       "int_rate                          0\n",
       "installment                       0\n",
       "grade                             0\n",
       "emp_title                         0\n",
       "emp_length                        0\n",
       "home_ownership                    0\n",
       "annual_inc                        0\n",
       "issue_d                           0\n",
       "purpose                           0\n",
       "title                             0\n",
       "addr_state                        0\n",
       "dti                             130\n",
       "delinq_2yrs                       0\n",
       "inq_last_6mths                    0\n",
       "open_acc                          0\n",
       "pub_rec                           0\n",
       "revol_bal                         0\n",
       "revol_util                        0\n",
       "total_acc                         0\n",
       "collections_12_mths_ex_med        0\n",
       "acc_now_delinq                    0\n",
       "tot_coll_amt                  27058\n",
       "tot_cur_bal                   27058\n",
       "total_rev_hi_lim              27058\n",
       "acc_open_past_24mths          18999\n",
       "avg_cur_bal                   27065\n",
       "bc_open_to_buy                24357\n",
       "bc_util                       24637\n",
       "chargeoff_within_12_mths         20\n",
       "delinq_amnt                       0\n",
       "mo_sin_old_il_acct            41869\n",
       "mo_sin_old_rev_tl_op          27058\n",
       "mo_sin_rcnt_rev_tl_op         27058\n",
       "mo_sin_rcnt_tl                27058\n",
       "mort_acc                      18999\n",
       "mths_since_recent_bc          24014\n",
       "num_accts_ever_120_pd         27058\n",
       "num_actv_bc_tl                27058\n",
       "num_actv_rev_tl               27058\n",
       "num_bc_sats                   22393\n",
       "num_bc_tl                     27058\n",
       "num_il_tl                     27058\n",
       "num_op_rev_tl                 27058\n",
       "num_rev_accts                 27059\n",
       "num_rev_tl_bal_gt_0           27058\n",
       "num_sats                      22393\n",
       "num_tl_120dpd_2m              46381\n",
       "num_tl_30dpd                  27058\n",
       "num_tl_90g_dpd_24m            27058\n",
       "num_tl_op_past_12m            27058\n",
       "pct_tl_nvr_dlq                27130\n",
       "percent_bc_gt_75              24523\n",
       "pub_rec_bankruptcies            283\n",
       "tax_liens                        15\n",
       "tot_hi_cred_lim               27058\n",
       "total_bal_ex_mort             18999\n",
       "total_bc_limit                18999\n",
       "total_il_high_credit_limit    27058\n",
       "hardship_flag                     0\n",
       "disbursement_method               0\n",
       "debt_settlement_flag              0\n",
       "Late_Loan                         0\n",
       "dtype: int64"
      ]
     },
     "execution_count": 10,
     "metadata": {},
     "output_type": "execute_result"
    }
   ],
   "source": [
    "df_sample['emp_length'] = df_sample[\"emp_length\"].fillna(lambda x: \\\n",
    "                                                         random.choice(df_sample[df_sample['emp_length'] != np.nan]\\\n",
    "                                                                       [\"emp_length\"]))\n",
    "df_sample.isnull().sum()"
   ]
  },
  {
   "cell_type": "code",
   "execution_count": 11,
   "metadata": {},
   "outputs": [],
   "source": [
    "#transforming to date datatype\n",
    "df_sample['issue_d'] = pd.to_datetime(df_sample.issue_d)"
   ]
  },
  {
   "cell_type": "code",
   "execution_count": 12,
   "metadata": {},
   "outputs": [
    {
     "data": {
      "text/plain": [
       "(522178, 64)"
      ]
     },
     "execution_count": 12,
     "metadata": {},
     "output_type": "execute_result"
    }
   ],
   "source": [
    "df_sample.shape"
   ]
  },
  {
   "cell_type": "code",
   "execution_count": 13,
   "metadata": {},
   "outputs": [],
   "source": [
    "df_sample = df_sample.dropna()"
   ]
  },
  {
   "cell_type": "code",
   "execution_count": 14,
   "metadata": {},
   "outputs": [
    {
     "data": {
      "text/plain": [
       "0    364913\n",
       "1     91002\n",
       "Name: Late_Loan, dtype: int64"
      ]
     },
     "execution_count": 14,
     "metadata": {},
     "output_type": "execute_result"
    }
   ],
   "source": [
    "df_sample['Late_Loan'].value_counts()"
   ]
  },
  {
   "cell_type": "code",
   "execution_count": 15,
   "metadata": {},
   "outputs": [
    {
     "data": {
      "text/plain": [
       "loan_amnt                     0\n",
       "term                          0\n",
       "int_rate                      0\n",
       "installment                   0\n",
       "grade                         0\n",
       "emp_title                     0\n",
       "emp_length                    0\n",
       "home_ownership                0\n",
       "annual_inc                    0\n",
       "issue_d                       0\n",
       "purpose                       0\n",
       "title                         0\n",
       "addr_state                    0\n",
       "dti                           0\n",
       "delinq_2yrs                   0\n",
       "inq_last_6mths                0\n",
       "open_acc                      0\n",
       "pub_rec                       0\n",
       "revol_bal                     0\n",
       "revol_util                    0\n",
       "total_acc                     0\n",
       "collections_12_mths_ex_med    0\n",
       "acc_now_delinq                0\n",
       "tot_coll_amt                  0\n",
       "tot_cur_bal                   0\n",
       "total_rev_hi_lim              0\n",
       "acc_open_past_24mths          0\n",
       "avg_cur_bal                   0\n",
       "bc_open_to_buy                0\n",
       "bc_util                       0\n",
       "chargeoff_within_12_mths      0\n",
       "delinq_amnt                   0\n",
       "mo_sin_old_il_acct            0\n",
       "mo_sin_old_rev_tl_op          0\n",
       "mo_sin_rcnt_rev_tl_op         0\n",
       "mo_sin_rcnt_tl                0\n",
       "mort_acc                      0\n",
       "mths_since_recent_bc          0\n",
       "num_accts_ever_120_pd         0\n",
       "num_actv_bc_tl                0\n",
       "num_actv_rev_tl               0\n",
       "num_bc_sats                   0\n",
       "num_bc_tl                     0\n",
       "num_il_tl                     0\n",
       "num_op_rev_tl                 0\n",
       "num_rev_accts                 0\n",
       "num_rev_tl_bal_gt_0           0\n",
       "num_sats                      0\n",
       "num_tl_120dpd_2m              0\n",
       "num_tl_30dpd                  0\n",
       "num_tl_90g_dpd_24m            0\n",
       "num_tl_op_past_12m            0\n",
       "pct_tl_nvr_dlq                0\n",
       "percent_bc_gt_75              0\n",
       "pub_rec_bankruptcies          0\n",
       "tax_liens                     0\n",
       "tot_hi_cred_lim               0\n",
       "total_bal_ex_mort             0\n",
       "total_bc_limit                0\n",
       "total_il_high_credit_limit    0\n",
       "hardship_flag                 0\n",
       "disbursement_method           0\n",
       "debt_settlement_flag          0\n",
       "Late_Loan                     0\n",
       "dtype: int64"
      ]
     },
     "execution_count": 15,
     "metadata": {},
     "output_type": "execute_result"
    }
   ],
   "source": [
    "df_sample.isnull().sum()"
   ]
  },
  {
   "cell_type": "code",
   "execution_count": 16,
   "metadata": {},
   "outputs": [
    {
     "data": {
      "text/plain": [
       "loan_amnt                              int64\n",
       "term                                  object\n",
       "int_rate                             float64\n",
       "installment                          float64\n",
       "grade                                 object\n",
       "emp_title                             object\n",
       "emp_length                            object\n",
       "home_ownership                        object\n",
       "annual_inc                           float64\n",
       "issue_d                       datetime64[ns]\n",
       "purpose                               object\n",
       "title                                 object\n",
       "addr_state                            object\n",
       "dti                                  float64\n",
       "delinq_2yrs                          float64\n",
       "inq_last_6mths                       float64\n",
       "open_acc                             float64\n",
       "pub_rec                              float64\n",
       "revol_bal                              int64\n",
       "revol_util                           float64\n",
       "total_acc                            float64\n",
       "collections_12_mths_ex_med           float64\n",
       "acc_now_delinq                       float64\n",
       "tot_coll_amt                         float64\n",
       "tot_cur_bal                          float64\n",
       "total_rev_hi_lim                     float64\n",
       "acc_open_past_24mths                 float64\n",
       "avg_cur_bal                          float64\n",
       "bc_open_to_buy                       float64\n",
       "bc_util                              float64\n",
       "chargeoff_within_12_mths             float64\n",
       "delinq_amnt                          float64\n",
       "mo_sin_old_il_acct                   float64\n",
       "mo_sin_old_rev_tl_op                 float64\n",
       "mo_sin_rcnt_rev_tl_op                float64\n",
       "mo_sin_rcnt_tl                       float64\n",
       "mort_acc                             float64\n",
       "mths_since_recent_bc                 float64\n",
       "num_accts_ever_120_pd                float64\n",
       "num_actv_bc_tl                       float64\n",
       "num_actv_rev_tl                      float64\n",
       "num_bc_sats                          float64\n",
       "num_bc_tl                            float64\n",
       "num_il_tl                            float64\n",
       "num_op_rev_tl                        float64\n",
       "num_rev_accts                        float64\n",
       "num_rev_tl_bal_gt_0                  float64\n",
       "num_sats                             float64\n",
       "num_tl_120dpd_2m                     float64\n",
       "num_tl_30dpd                         float64\n",
       "num_tl_90g_dpd_24m                   float64\n",
       "num_tl_op_past_12m                   float64\n",
       "pct_tl_nvr_dlq                       float64\n",
       "percent_bc_gt_75                     float64\n",
       "pub_rec_bankruptcies                 float64\n",
       "tax_liens                            float64\n",
       "tot_hi_cred_lim                      float64\n",
       "total_bal_ex_mort                    float64\n",
       "total_bc_limit                       float64\n",
       "total_il_high_credit_limit           float64\n",
       "hardship_flag                         object\n",
       "disbursement_method                   object\n",
       "debt_settlement_flag                  object\n",
       "Late_Loan                              int64\n",
       "dtype: object"
      ]
     },
     "execution_count": 16,
     "metadata": {},
     "output_type": "execute_result"
    }
   ],
   "source": [
    "df_sample.dtypes"
   ]
  },
  {
   "cell_type": "code",
   "execution_count": 17,
   "metadata": {},
   "outputs": [],
   "source": [
    "features = ['loan_amnt','term','int_rate','installment','grade','emp_title','emp_length','home_ownership',\\\n",
    "            'annual_inc','issue_d','purpose','title','addr_state','dti','delinq_2yrs','inq_last_6mths',\\\n",
    "            'open_acc','pub_rec','revol_bal','revol_util','total_acc','collections_12_mths_ex_med','acc_now_delinq',\\\n",
    "            'Late_Loan']"
   ]
  },
  {
   "cell_type": "code",
   "execution_count": 18,
   "metadata": {},
   "outputs": [],
   "source": [
    "\n",
    "df_sample = df_sample[features]"
   ]
  },
  {
   "cell_type": "code",
   "execution_count": 19,
   "metadata": {},
   "outputs": [
    {
     "data": {
      "text/plain": [
       "float64           14\n",
       "object             8\n",
       "datetime64[ns]     1\n",
       "int64              1\n",
       "dtype: int64"
      ]
     },
     "execution_count": 19,
     "metadata": {},
     "output_type": "execute_result"
    }
   ],
   "source": [
    "df_sample['loan_amnt'] = df_sample['loan_amnt'].astype(float)\n",
    "df_sample['revol_bal'] = df_sample['revol_bal'].astype(float)\n",
    "df_sample.dtypes.value_counts()"
   ]
  },
  {
   "cell_type": "code",
   "execution_count": 20,
   "metadata": {},
   "outputs": [
    {
     "name": "stdout",
     "output_type": "stream",
     "text": [
      "loan_amnt                       14645.807935689767\n",
      "int_rate                        13.230947764427155\n",
      "installment                      444.4753534760307\n",
      "annual_inc                       76993.26211721454\n",
      "dti                             18.701711415505606\n",
      "delinq_2yrs                     0.3233102661680357\n",
      "inq_last_6mths                  0.6230766699933101\n",
      "open_acc                        11.836063739951525\n",
      "pub_rec                        0.21851441606439798\n",
      "revol_bal                       16221.585060811774\n",
      "revol_util                        51.7113556254987\n",
      "total_acc                       25.527376813660442\n",
      "collections_12_mths_ex_med     0.01671583518857682\n",
      "acc_now_delinq                0.005393549236151475\n",
      "dtype: object\n",
      "Index(['term', 'grade', 'emp_title', 'emp_length', 'home_ownership', 'purpose',\n",
      "       'title', 'addr_state'],\n",
      "      dtype='object')\n",
      "Index([], dtype='object')\n"
     ]
    },
    {
     "data": {
      "text/plain": [
       "debt_consolidation    268202\n",
       "credit_card           100966\n",
       "home_improvement       29365\n",
       "other                  25096\n",
       "major_purchase          9365\n",
       "medical                 5220\n",
       "small_business          4385\n",
       "car                     4348\n",
       "moving                  3112\n",
       "vacation                2929\n",
       "house                   2325\n",
       "wedding                  309\n",
       "renewable_energy         293\n",
       "Name: purpose, dtype: int64"
      ]
     },
     "execution_count": 20,
     "metadata": {},
     "output_type": "execute_result"
    }
   ],
   "source": [
    "#cleaned and transformed data ready for analysis and ML \n",
    "#numerical features - means \n",
    "print(df_sample.select_dtypes(include=['float64']).apply(np.mean).apply(str))\n",
    "\n",
    "# categorical variables \n",
    "print(df_sample.select_dtypes(include=['object']).columns)\n",
    "\n",
    "# target variable - boolean\n",
    "\n",
    "print(df_sample.select_dtypes(include=['bool']).columns)\n",
    "\n",
    "df_sample['purpose'].value_counts()"
   ]
  },
  {
   "cell_type": "code",
   "execution_count": 21,
   "metadata": {},
   "outputs": [
    {
     "data": {
      "image/png": "[encoded data removed]",
      "text/plain": [
       "<Figure size 360x360 with 1 Axes>"
      ]
     },
     "metadata": {},
     "output_type": "display_data"
    }
   ],
   "source": [
    "#distribution of our class/targer variable Late_Loan , True if loan is late. \n",
    "plt.figure(figsize=(5,5))\n",
    "df_sample['Late_Loan'].value_counts().plot(kind = 'pie',autopct='%.0f%%', startangle=100, fontsize=17)\n",
    "plt.show()"
   ]
  },
  {
   "cell_type": "code",
   "execution_count": 22,
   "metadata": {},
   "outputs": [
    {
     "data": {
      "text/html": [
       "<div>\n",
       "<style scoped>\n",
       "    .dataframe tbody tr th:only-of-type {\n",
       "        vertical-align: middle;\n",
       "    }\n",
       "\n",
       "    .dataframe tbody tr th {\n",
       "        vertical-align: top;\n",
       "    }\n",
       "\n",
       "    .dataframe thead th {\n",
       "        text-align: right;\n",
       "    }\n",
       "</style>\n",
       "<table border=\"1\" class=\"dataframe\">\n",
       "  <thead>\n",
       "    <tr style=\"text-align: right;\">\n",
       "      <th></th>\n",
       "      <th>Average Loan Amount</th>\n",
       "      <th>YoY Change %</th>\n",
       "    </tr>\n",
       "    <tr>\n",
       "      <th>issue_d</th>\n",
       "      <th></th>\n",
       "      <th></th>\n",
       "    </tr>\n",
       "  </thead>\n",
       "  <tbody>\n",
       "    <tr>\n",
       "      <td>2012</td>\n",
       "      <td>13785.349643</td>\n",
       "      <td>NaN</td>\n",
       "    </tr>\n",
       "    <tr>\n",
       "      <td>2013</td>\n",
       "      <td>14853.968848</td>\n",
       "      <td>7.751847</td>\n",
       "    </tr>\n",
       "    <tr>\n",
       "      <td>2014</td>\n",
       "      <td>14787.742880</td>\n",
       "      <td>-0.445847</td>\n",
       "    </tr>\n",
       "    <tr>\n",
       "      <td>2015</td>\n",
       "      <td>14745.150463</td>\n",
       "      <td>-0.288025</td>\n",
       "    </tr>\n",
       "    <tr>\n",
       "      <td>2016</td>\n",
       "      <td>14546.627665</td>\n",
       "      <td>-1.346360</td>\n",
       "    </tr>\n",
       "    <tr>\n",
       "      <td>2017</td>\n",
       "      <td>14242.104176</td>\n",
       "      <td>-2.093430</td>\n",
       "    </tr>\n",
       "    <tr>\n",
       "      <td>2018</td>\n",
       "      <td>14984.659124</td>\n",
       "      <td>5.213801</td>\n",
       "    </tr>\n",
       "  </tbody>\n",
       "</table>\n",
       "</div>"
      ],
      "text/plain": [
       "         Average Loan Amount  YoY Change %\n",
       "issue_d                                   \n",
       "2012            13785.349643           NaN\n",
       "2013            14853.968848      7.751847\n",
       "2014            14787.742880     -0.445847\n",
       "2015            14745.150463     -0.288025\n",
       "2016            14546.627665     -1.346360\n",
       "2017            14242.104176     -2.093430\n",
       "2018            14984.659124      5.213801"
      ]
     },
     "execution_count": 22,
     "metadata": {},
     "output_type": "execute_result"
    }
   ],
   "source": [
    "Amount_By_Year = df_sample.groupby(df_sample['issue_d'].dt.year)['loan_amnt'].mean()\n",
    "Amount_By_Year = pd.DataFrame(Amount_By_Year)\n",
    "Amount_By_Year['YoY Change %'] = Amount_By_Year.pct_change()*100\n",
    "Amount_By_Year.rename(columns = {'loan_amnt':'Average Loan Amount'})"
   ]
  },
  {
   "cell_type": "code",
   "execution_count": 23,
   "metadata": {},
   "outputs": [
    {
     "data": {
      "image/png": "[encoded data removed]",
      "text/plain": [
       "<Figure size 576x216 with 1 Axes>"
      ]
     },
     "metadata": {
      "needs_background": "light"
     },
     "output_type": "display_data"
    }
   ],
   "source": [
    "plt.figure(figsize=(8,3))\n",
    "Amount_By_Year_Status_True = df_sample.groupby([df_sample['issue_d'].dt.year,df_sample['Late_Loan'][df_sample['Late_Loan'] == True]])['loan_amnt'].mean().plot(kind = 'line', label = 'True')\n",
    "Amount_By_Year_Status_False = df_sample.groupby([df_sample['issue_d'].dt.year,df_sample['Late_Loan'][df_sample['Late_Loan'] == False]])['loan_amnt'].mean().plot(kind = 'line',label = 'False')\n",
    "plt.xlabel('Year')\n",
    "plt.ylabel('Average Loan')\n",
    "plt.legend(loc='best')\n",
    "plt.show()"
   ]
  },
  {
   "cell_type": "code",
   "execution_count": 24,
   "metadata": {},
   "outputs": [],
   "source": [
    "from patsy import dmatrices\n",
    "from sklearn.model_selection import train_test_split\n",
    "from sklearn import tree\n",
    "from sklearn import metrics\n",
    "from sklearn.model_selection import StratifiedKFold, cross_val_score\n",
    "from sklearn.ensemble import RandomForestClassifier\n",
    "from imblearn.over_sampling import SMOTE\n",
    "\n",
    "df_sample['installmentAsPercent'] = df_sample['installment']/(df_sample['annual_inc']/12)\n",
    "\n",
    "def GradeInt(x):\n",
    "    if x == \"A\":\n",
    "        return 1\n",
    "    elif x == \"B\":\n",
    "        return 2\n",
    "    elif x == \"C\":\n",
    "        return 3\n",
    "    elif x == \"D\":\n",
    "        return 4\n",
    "    elif x == \"E\":\n",
    "        return 5\n",
    "    else:\n",
    "        return 6\n",
    "\n",
    "df_sample['GradeInt'] = df_sample['grade'].map(GradeInt)\n",
    "\n",
    "\n",
    "Y,X = dmatrices('Late_Loan ~ 0 + int_rate + GradeInt + loan_amnt + installment + annual_inc + dti + delinq_2yrs + inq_last_6mths + open_acc + pub_rec + revol_bal + revol_util + total_acc + collections_12_mths_ex_med + acc_now_delinq + emp_length + term  + home_ownership + purpose + installmentAsPercent',df_sample, return_type = 'dataframe')\n",
    "X_columns = X.columns\n",
    "\n",
    "sm = SMOTE(random_state=42)\n",
    "X, Y = sm.fit_sample(X, Y)\n",
    "X = pd.DataFrame(X,columns=X_columns)"
   ]
  },
  {
   "cell_type": "code",
   "execution_count": 25,
   "metadata": {},
   "outputs": [
    {
     "data": {
      "image/png": "[encoded data removed]",
      "text/plain": [
       "<Figure size 360x360 with 1 Axes>"
      ]
     },
     "metadata": {},
     "output_type": "display_data"
    }
   ],
   "source": [
    "#distribution of our class/targer variable Late_Loan , True if loan is late. \n",
    "\n",
    "Y_df = pd.DataFrame(Y,columns=['Late_Loan'])\n",
    "plt.figure(figsize=(5,5))\n",
    "Y_df['Late_Loan'].value_counts().plot(kind = 'pie',autopct='%.0f%%', startangle=100, fontsize=17)\n",
    "plt.show()"
   ]
  },
  {
   "cell_type": "code",
   "execution_count": 27,
   "metadata": {},
   "outputs": [
    {
     "name": "stdout",
     "output_type": "stream",
     "text": [
      "0.8179506596887259\n",
      "DecisionTreeClassifier(criterion='entropy', max_depth=9, max_features=13,\n",
      "                       max_leaf_nodes=50, min_samples_leaf=25)\n"
     ]
    }
   ],
   "source": [
    "from sklearn.model_selection import RandomizedSearchCV\n",
    "from scipy.stats import randint as sp_randint\n",
    "\n",
    "X_train,X_test, Y_train, Y_test = train_test_split(X,Y,test_size=0.3)\n",
    "\n",
    "model = tree.DecisionTreeClassifier(criterion = 'entropy') \n",
    "param_dist = {    \"max_depth\": sp_randint(6,10),\n",
    "                  \"max_features\": sp_randint(3,15),\n",
    "                  \"max_leaf_nodes\": [10,20,30,40,50],\n",
    "                  \"min_samples_leaf\": [25,50,75,100,150,250,500],\n",
    "                 }\n",
    "random_search = RandomizedSearchCV(model,\n",
    "                        param_distributions=param_dist,\n",
    "                        n_iter=50)\n",
    "\n",
    "random_search.fit(X_train, Y_train)\n",
    "print(random_search.best_score_)\n",
    "print(random_search.best_estimator_)"
   ]
  },
  {
   "cell_type": "code",
   "execution_count": 28,
   "metadata": {},
   "outputs": [
    {
     "data": {
      "image/png": "[encoded data removed]",
      "text/plain": [
       "<Figure size 432x288 with 1 Axes>"
      ]
     },
     "metadata": {
      "needs_background": "light"
     },
     "output_type": "display_data"
    }
   ],
   "source": [
    "best_model = random_search.best_estimator_\n",
    "best_model.fit(X_train,Y_train)\n",
    "\n",
    "importance = sorted(zip(map(lambda x: round(x, 4), best_model.feature_importances_), X.columns),reverse=True)\n",
    "y_val = []\n",
    "x_val = [x[0] for x in importance]\n",
    "for x in importance:\n",
    "    y_val.append(x[1])\n",
    "    \n",
    "pd.Series(x_val,index=y_val)[:7].plot(kind='bar')\n",
    "plt.show()"
   ]
  },
  {
   "cell_type": "code",
   "execution_count": 29,
   "metadata": {},
   "outputs": [],
   "source": [
    "def print_report(test_y, test_predict):\n",
    "    from sklearn.metrics import confusion_matrix\n",
    "    \n",
    "    \n",
    "    print(confusion_matrix(test_y, test_predict))\n",
    "\n",
    "    from sklearn.metrics import classification_report\n",
    "    print(classification_report(test_y, test_predict))"
   ]
  },
  {
   "cell_type": "code",
   "execution_count": 32,
   "metadata": {},
   "outputs": [
    {
     "name": "stdout",
     "output_type": "stream",
     "text": [
      "Fitting logistic regression model...\n",
      "62.64 %\n",
      "\n",
      "Results on train:\n",
      "[[138699 116775]\n",
      " [ 74391 181013]]\n",
      "              precision    recall  f1-score   support\n",
      "\n",
      "         0.0       0.65      0.54      0.59    255474\n",
      "         1.0       0.61      0.71      0.65    255404\n",
      "\n",
      "    accuracy                           0.63    510878\n",
      "   macro avg       0.63      0.63      0.62    510878\n",
      "weighted avg       0.63      0.63      0.62    510878\n",
      "\n",
      "\n",
      "Results on test:\n",
      "[[59321 50118]\n",
      " [31675 77834]]\n",
      "              precision    recall  f1-score   support\n",
      "\n",
      "         0.0       0.65      0.54      0.59    109439\n",
      "         1.0       0.61      0.71      0.66    109509\n",
      "\n",
      "    accuracy                           0.63    218948\n",
      "   macro avg       0.63      0.63      0.62    218948\n",
      "weighted avg       0.63      0.63      0.62    218948\n",
      "\n"
     ]
    }
   ],
   "source": [
    "from sklearn.linear_model import LogisticRegression\n",
    "\n",
    "print('Fitting logistic regression model...')\n",
    "log_reg = LogisticRegression(solver='lbfgs', max_iter=5000)\n",
    "log_reg.fit(X_train, Y_train)\n",
    "\n",
    "print(round(log_reg.score(X_test, Y_test) * 100, 2), '%')\n",
    "\n",
    "print('\\nResults on train:')\n",
    "print_report(Y_train, log_reg.predict(X_train))\n",
    "\n",
    "print('\\nResults on test:')\n",
    "print_report(Y_test, log_reg.predict(X_test))"
   ]
  },
  {
   "cell_type": "code",
   "execution_count": 1,
   "metadata": {},
   "outputs": [
    {
     "ename": "NameError",
     "evalue": "name 'best_model' is not defined",
     "output_type": "error",
     "traceback": [
      "\u001b[1;31m---------------------------------------------------------------------------\u001b[0m",
      "\u001b[1;31mNameError\u001b[0m                                 Traceback (most recent call last)",
      "\u001b[1;32m<ipython-input-1-618bf0738d27>\u001b[0m in \u001b[0;36m<module>\u001b[1;34m\u001b[0m\n\u001b[0;32m      1\u001b[0m \u001b[1;32mfrom\u001b[0m \u001b[0msklearn\u001b[0m\u001b[1;33m.\u001b[0m\u001b[0mensemble\u001b[0m \u001b[1;32mimport\u001b[0m \u001b[0mBaggingClassifier\u001b[0m\u001b[1;33m\u001b[0m\u001b[1;33m\u001b[0m\u001b[0m\n\u001b[1;32m----> 2\u001b[1;33m \u001b[0mbagging\u001b[0m \u001b[1;33m=\u001b[0m \u001b[0mBaggingClassifier\u001b[0m\u001b[1;33m(\u001b[0m\u001b[0mbest_model\u001b[0m\u001b[1;33m,\u001b[0m \u001b[0mrandom_state\u001b[0m\u001b[1;33m=\u001b[0m\u001b[1;36m1\u001b[0m\u001b[1;33m)\u001b[0m\u001b[1;33m\u001b[0m\u001b[1;33m\u001b[0m\u001b[0m\n\u001b[0m\u001b[0;32m      3\u001b[0m \u001b[0mbagging\u001b[0m\u001b[1;33m.\u001b[0m\u001b[0mfit\u001b[0m\u001b[1;33m(\u001b[0m\u001b[0mX\u001b[0m\u001b[1;33m,\u001b[0m\u001b[0mY\u001b[0m\u001b[1;33m)\u001b[0m\u001b[1;33m\u001b[0m\u001b[1;33m\u001b[0m\u001b[0m\n\u001b[0;32m      4\u001b[0m \u001b[1;33m\u001b[0m\u001b[0m\n\u001b[0;32m      5\u001b[0m \u001b[0maccuracy\u001b[0m \u001b[1;33m=\u001b[0m \u001b[0mmetrics\u001b[0m\u001b[1;33m.\u001b[0m\u001b[0maccuracy_score\u001b[0m\u001b[1;33m(\u001b[0m\u001b[0mbagging\u001b[0m\u001b[1;33m.\u001b[0m\u001b[0mpredict\u001b[0m\u001b[1;33m(\u001b[0m\u001b[0mX_test\u001b[0m\u001b[1;33m)\u001b[0m\u001b[1;33m,\u001b[0m\u001b[0mY_test\u001b[0m\u001b[1;33m)\u001b[0m\u001b[1;33m\u001b[0m\u001b[1;33m\u001b[0m\u001b[0m\n",
      "\u001b[1;31mNameError\u001b[0m: name 'best_model' is not defined"
     ]
    }
   ],
   "source": [
    "from sklearn.ensemble import BaggingClassifier\n",
    "bagging = BaggingClassifier(best_model, random_state=1)\n",
    "bagging.fit(X,Y)\n",
    "\n",
    "accuracy = metrics.accuracy_score(bagging.predict(X_test),Y_test)\n",
    "precision = metrics.precision_score(bagging.predict(X_test),Y_test,pos_label=1)\n",
    "recall = metrics.recall_score(bagging.predict(X_test),Y_test,pos_label=1)\n",
    "confusion_matrix = metrics.confusion_matrix(Y_test,bagging.predict(X_test),labels=[1,0])\n",
    "\n",
    "print(accuracy)\n",
    "print(precision)\n",
    "print(recall)\n",
    "print(confusion_matrix)\n",
    "\n",
    "labels = ['Late', 'Paid']\n",
    "fig = plt.figure()\n",
    "ax = fig.add_subplot(111)\n",
    "cax = ax.matshow(confusion_matrix)\n",
    "fig.colorbar(cax)\n",
    "plt.title('Confusion matrix of the classifier')\n",
    "ax.set_xticklabels([''] + labels)\n",
    "ax.set_yticklabels([''] + labels)\n",
    "plt.xlabel('Predicted')\n",
    "plt.ylabel('True')\n",
    "plt.show()"
   ]
  },
  {
   "cell_type": "code",
   "execution_count": null,
   "metadata": {},
   "outputs": [],
   "source": []
  }
 ],
 "metadata": {
  "kernelspec": {
   "display_name": "Python 3",
   "language": "python",
   "name": "python3"
  },
  "language_info": {
   "codemirror_mode": {
    "name": "ipython",
    "version": 3
   },
   "file_extension": ".py",
   "mimetype": "text/x-python",
   "name": "python",
   "nbconvert_exporter": "python",
   "pygments_lexer": "ipython3",
   "version": "3.8.3"
  }
 },
 "nbformat": 4,
 "nbformat_minor": 2
}
