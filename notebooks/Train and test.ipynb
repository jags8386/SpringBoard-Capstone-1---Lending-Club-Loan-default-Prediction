{
 "cells": [
  {
   "cell_type": "code",
   "execution_count": 1,
   "metadata": {},
   "outputs": [],
   "source": [
    "import pandas as pd\n",
    "import matplotlib.pyplot as plt\n",
    "import numpy as np\n",
    "import seaborn as sns\n",
    "from sklearn.model_selection import train_test_split\n",
    "\n",
    "%matplotlib inline\n",
    "\n",
    "pd.set_option('display.max_columns', None)\n",
    "pd.set_option('display.max_rows', None)\n",
    "\n",
    "sns.set_style('whitegrid')"
   ]
  },
  {
   "cell_type": "code",
   "execution_count": 5,
   "metadata": {},
   "outputs": [
    {
     "name": "stdout",
     "output_type": "stream",
     "text": [
      "-->Read Chunk... 1\n",
      "-->Read Chunk... 2\n",
      "-->Read Chunk... 3\n",
      "-->Read Chunk... 4\n"
     ]
    }
   ],
   "source": [
    "file1 = \"../data/processed/Loan_cleandata2.csv\"\n",
    "ChunkSize = 200000\n",
    "i = 1\n",
    "for chunk in pd.read_csv(file1, chunksize=ChunkSize, low_memory=False):\n",
    "    loan_data = chunk if i == 1 else pd.concat([loan_data, chunk])\n",
    "    print('-->Read Chunk...', i)\n",
    "    i += 1\n",
    "\n",
    "\n",
    "# data = pd.read_csv(\"loan.csv\", low_memory=False)"
   ]
  },
  {
   "cell_type": "code",
   "execution_count": 6,
   "metadata": {},
   "outputs": [
    {
     "name": "stdout",
     "output_type": "stream",
     "text": [
      "(741542, 37)\n"
     ]
    }
   ],
   "source": [
    "# print(list(data.columns))\n",
    "print(loan_data.shape)"
   ]
  },
  {
   "cell_type": "code",
   "execution_count": 7,
   "metadata": {},
   "outputs": [
    {
     "name": "stdout",
     "output_type": "stream",
     "text": [
      "   loan_amnt        term  int_rate  installment grade sub_grade  \\\n",
      "0       8400   36 months     10.75       274.02     B        B4   \n",
      "1       6000   36 months     17.27       214.73     D        D2   \n",
      "2      15000   36 months      9.93       483.52     B        B2   \n",
      "3       5600   36 months      7.35       173.81     A        A4   \n",
      "4      12000   36 months     11.55       396.00     B        B3   \n",
      "\n",
      "                  emp_title  emp_length home_ownership  annual_inc  \\\n",
      "0  Administrative Assistant           4           RENT     49999.0   \n",
      "1                   Teacher          10            OWN     72000.0   \n",
      "2                 Professor           1       MORTGAGE     80000.0   \n",
      "3        Software Developer           4           RENT     78618.0   \n",
      "4                      ucsf           1           RENT    120000.0   \n",
      "\n",
      "  verification_status loan_status             purpose addr_state    dti  \\\n",
      "0            Verified   Bad loans  debt_consolidation         NY   4.61   \n",
      "1        Not Verified  Good loans    home_improvement         MI  22.80   \n",
      "2        Not Verified     Unknown         credit_card         GA  15.26   \n",
      "3            Verified     Unknown               other         TX  29.60   \n",
      "4     Source Verified  Good loans  debt_consolidation         CA   5.75   \n",
      "\n",
      "   delinq_2yrs initial_list_status  open_acc_6m  open_act_il  open_il_12m  \\\n",
      "0          0.0                   f          0.0          1.0          0.0   \n",
      "1          0.0                   w          2.0          2.0          0.0   \n",
      "2          0.0                   w          0.0          5.0          1.0   \n",
      "3          0.0                   w          0.0          5.0          1.0   \n",
      "4          0.0                   f          0.0          1.0          0.0   \n",
      "\n",
      "   il_util  open_rv_12m  inq_fi  inq_last_12m  acc_open_past_24mths  mort_acc  \\\n",
      "0     78.0          0.0     0.0           0.0                   2.0       0.0   \n",
      "1     32.0          2.0     0.0           4.0                   5.0       0.0   \n",
      "2     70.0          0.0     0.0           0.0                   2.0       2.0   \n",
      "3     62.0          0.0     0.0           1.0                   4.0       0.0   \n",
      "4     78.0          0.0     0.0           0.0                   4.0       0.0   \n",
      "\n",
      "   num_accts_ever_120_pd  num_tl_op_past_12m  tot_hi_cred_lim  \\\n",
      "0                    0.0                 0.0          77000.0   \n",
      "1                    0.0                 2.0          53296.0   \n",
      "2                    0.0                 1.0         183350.0   \n",
      "3                    0.0                 1.0         137320.0   \n",
      "4                    0.0                 2.0          34419.0   \n",
      "\n",
      "   total_bal_ex_mort  total_bc_limit  year  percent_complete  \\\n",
      "0            63633.0          9900.0  2016             59.89   \n",
      "1            30256.0         15800.0  2016            127.56   \n",
      "2            53878.0         28700.0  2017             67.64   \n",
      "3            79005.0         27500.0  2017             59.07   \n",
      "4            18628.0          7181.0  2013            117.01   \n",
      "\n",
      "      max_bal_bc_cat  num_sats_cat percent_bc_gt_75_cat  loan_status_count  \n",
      "0   (2000.0, 5000.0]   (5.0, 10.0]         (20.0, 40.0]                  1  \n",
      "1  (5000.0, 10000.0]  (10.0, 20.0]        (80.0, 100.0]                  0  \n",
      "2  (5000.0, 10000.0]  (10.0, 20.0]         (20.0, 40.0]                  2  \n",
      "3   (2000.0, 5000.0]  (10.0, 20.0]       (-0.001, 20.0]                  2  \n",
      "4   (-0.001, 1000.0]   (5.0, 10.0]       (-0.001, 20.0]                  0  \n"
     ]
    }
   ],
   "source": [
    "print(loan_data.head())"
   ]
  },
  {
   "cell_type": "code",
   "execution_count": 8,
   "metadata": {},
   "outputs": [],
   "source": [
    "col_to_drop = ['sub_grade', 'loan_status_count']\n",
    "df_final = loan_data.drop(col_to_drop, axis=1)"
   ]
  },
  {
   "cell_type": "code",
   "execution_count": 9,
   "metadata": {},
   "outputs": [],
   "source": [
    "df_known = df_final[df_final['loan_status'] != 'Unknown']\n",
    "df_unknown = df_final[df_final['loan_status'] == 'Unknown'].drop('loan_status', axis=1)"
   ]
  },
  {
   "cell_type": "code",
   "execution_count": 11,
   "metadata": {},
   "outputs": [],
   "source": [
    "df_known.to_csv('../data/processed/Loan_known_data.csv', index=False)\n",
    "df_unknown.to_csv('../data/processed/Loan_unknown_data.csv', index=False)"
   ]
  },
  {
   "cell_type": "code",
   "execution_count": null,
   "metadata": {},
   "outputs": [],
   "source": []
  }
 ],
 "metadata": {
  "kernelspec": {
   "display_name": "Python 3",
   "language": "python",
   "name": "python3"
  },
  "language_info": {
   "codemirror_mode": {
    "name": "ipython",
    "version": 3
   },
   "file_extension": ".py",
   "mimetype": "text/x-python",
   "name": "python",
   "nbconvert_exporter": "python",
   "pygments_lexer": "ipython3",
   "version": "3.8.3"
  }
 },
 "nbformat": 4,
 "nbformat_minor": 4
}
